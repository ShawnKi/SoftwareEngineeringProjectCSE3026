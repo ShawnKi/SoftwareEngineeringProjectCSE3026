{
 "cells": [
  {
   "cell_type": "code",
   "execution_count": 1,
   "id": "dafe7a53-504a-4689-857f-903e9a70c6b9",
   "metadata": {},
   "outputs": [],
   "source": [
    "from passwd import password\n",
    "import mysql.connector"
   ]
  },
  {
   "cell_type": "code",
   "execution_count": 9,
   "id": "e7742774-9b5a-409a-b0ae-7478aa5461c9",
   "metadata": {},
   "outputs": [],
   "source": [
    "db = mysql.connector.connect(\n",
    "    host=\"localhost\",\n",
    "    user=\"root\",\n",
    "    passwd=password,\n",
    "    database=\"testdb\"\n",
    ")"
   ]
  },
  {
   "cell_type": "code",
   "execution_count": 10,
   "id": "4e17aeb1-6095-46b7-bffa-d9873f8060dc",
   "metadata": {},
   "outputs": [],
   "source": [
    "cursor = db.cursor()"
   ]
  },
  {
   "cell_type": "code",
   "execution_count": 11,
   "id": "e9f95784-a683-4f92-858b-e977805a117d",
   "metadata": {},
   "outputs": [],
   "source": [
    "cursor.execute(\"CREATE TABLE usertable (username VARCHAR(50), age smallint UNSIGNED, userID int PRIMARY KEY AUTO_INCREMENT)\")"
   ]
  },
  {
   "cell_type": "code",
   "execution_count": null,
   "id": "d610c0b5-7167-4858-b442-021e57389fa5",
   "metadata": {},
   "outputs": [],
   "source": []
  }
 ],
 "metadata": {
  "kernelspec": {
   "display_name": "Python 3 (ipykernel)",
   "language": "python",
   "name": "python3"
  },
  "language_info": {
   "codemirror_mode": {
    "name": "ipython",
    "version": 3
   },
   "file_extension": ".py",
   "mimetype": "text/x-python",
   "name": "python",
   "nbconvert_exporter": "python",
   "pygments_lexer": "ipython3",
   "version": "3.8.18"
  }
 },
 "nbformat": 4,
 "nbformat_minor": 5
}
